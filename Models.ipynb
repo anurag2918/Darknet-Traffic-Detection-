{
 "cells": [
  {
   "cell_type": "code",
   "execution_count": 19,
   "id": "5bdfdc5b-6427-4ae0-aee5-06aa887560e6",
   "metadata": {},
   "outputs": [],
   "source": [
    "import pandas as pd\n",
    "import numpy as np\n",
    "from sklearn.model_selection import train_test_split\n",
    "from sklearn.preprocessing import StandardScaler, LabelEncoder\n",
    "from sklearn.neighbors import KNeighborsClassifier\n",
    "from sklearn.ensemble import RandomForestClassifier\n",
    "from sklearn.metrics import accuracy_score, classification_report"
   ]
  },
  {
   "cell_type": "code",
   "execution_count": 20,
   "id": "bc3a5d40-8344-4c54-9de1-c3d39e53d49d",
   "metadata": {},
   "outputs": [],
   "source": [
    "data = pd.read_csv('Darknet_PCA.csv')\n",
    "\n",
    "# Separate features and target\n",
    "X = data.drop(columns=['Label'])  # Assuming 'Label' is the target\n",
    "y = data['Label']\n",
    "\n",
    "# Train-test split\n",
    "X_train, X_test, y_train, y_test = train_test_split(X, y, test_size=0.2, random_state=42)"
   ]
  },
  {
   "cell_type": "code",
   "execution_count": 21,
   "id": "92bdbfce-ff2c-450b-91b9-2a07fa7646c1",
   "metadata": {},
   "outputs": [
    {
     "name": "stdout",
     "output_type": "stream",
     "text": [
      "KNN Accuracy: 0.8892\n",
      "\n",
      "KNN Classification Report:\n",
      "               precision    recall  f1-score   support\n",
      "\n",
      "           1       0.94      0.97      0.96     14951\n",
      "           2       0.82      0.73      0.77      3827\n",
      "           3       0.75      0.57      0.65       202\n",
      "           4       0.75      0.73      0.74      3665\n",
      "\n",
      "    accuracy                           0.89     22645\n",
      "   macro avg       0.81      0.75      0.78     22645\n",
      "weighted avg       0.89      0.89      0.89     22645\n",
      "\n"
     ]
    }
   ],
   "source": [
    "# K-Nearest Neighbors (KNN) classifier\n",
    "knn = KNeighborsClassifier(n_neighbors=5)\n",
    "knn.fit(X_train, y_train)\n",
    "y_pred = knn.predict(X_test)\n",
    "\n",
    "# Evaluate KNN performance\n",
    "accuracy = accuracy_score(y_test, y_pred)\n",
    "print(f\"KNN Accuracy: {accuracy:.4f}\")\n",
    "rep = classification_report(y_test, y_pred)\n",
    "print(\"\\nKNN Classification Report:\\n\", rep)"
   ]
  },
  {
   "cell_type": "code",
   "execution_count": 22,
   "id": "8e3eec02-d811-47bd-a189-4cd2a439c40d",
   "metadata": {},
   "outputs": [
    {
     "name": "stdout",
     "output_type": "stream",
     "text": [
      "Random Forest Accuracy: 0.9039\n",
      "\n",
      "Random Forest Classification Report:\n",
      "               precision    recall  f1-score   support\n",
      "\n",
      "           1       0.94      0.97      0.96     14951\n",
      "           2       0.82      0.73      0.77      3827\n",
      "           3       0.75      0.57      0.65       202\n",
      "           4       0.75      0.73      0.74      3665\n",
      "\n",
      "    accuracy                           0.89     22645\n",
      "   macro avg       0.81      0.75      0.78     22645\n",
      "weighted avg       0.89      0.89      0.89     22645\n",
      "\n"
     ]
    }
   ],
   "source": [
    "rf = RandomForestClassifier(n_estimators=100, random_state=42)\n",
    "rf.fit(X_train, y_train)\n",
    "y_pred_rf = rf.predict(X_test)\n",
    "\n",
    "# Evaluate Random Forest performance\n",
    "accuracy_rf = accuracy_score(y_test, y_pred_rf)\n",
    "classification_rep = classification_report(y_test, y_pred)\n",
    "print(f\"Random Forest Accuracy: {accuracy_rf:.4f}\")\n",
    "print(\"\\nRandom Forest Classification Report:\\n\", classification_rep)"
   ]
  },
  {
   "cell_type": "code",
   "execution_count": null,
   "id": "5ecee03a-e0a5-4f00-b640-c9a922f79dfc",
   "metadata": {},
   "outputs": [],
   "source": []
  }
 ],
 "metadata": {
  "kernelspec": {
   "display_name": "Python 3 (ipykernel)",
   "language": "python",
   "name": "python3"
  },
  "language_info": {
   "codemirror_mode": {
    "name": "ipython",
    "version": 3
   },
   "file_extension": ".py",
   "mimetype": "text/x-python",
   "name": "python",
   "nbconvert_exporter": "python",
   "pygments_lexer": "ipython3",
   "version": "3.11.7"
  }
 },
 "nbformat": 4,
 "nbformat_minor": 5
}
